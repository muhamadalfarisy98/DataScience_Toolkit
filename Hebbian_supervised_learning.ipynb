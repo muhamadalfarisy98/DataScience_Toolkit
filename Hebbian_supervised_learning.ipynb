{
  "nbformat": 4,
  "nbformat_minor": 0,
  "metadata": {
    "colab": {
      "name": "Hebbian supervised learning.ipynb",
      "provenance": [],
      "collapsed_sections": []
    },
    "kernelspec": {
      "name": "python3",
      "display_name": "Python 3"
    }
  },
  "cells": [
    {
      "cell_type": "markdown",
      "metadata": {
        "id": "ORIgsCKe3vlN",
        "colab_type": "text"
      },
      "source": [
        "#NAMA : Muhamad Alfarisy\n",
        "#NIM  : 13216114\n",
        "#Tugas: PR3 EL4233\n"
      ]
    },
    {
      "cell_type": "markdown",
      "metadata": {
        "id": "6ifJ4j-AzQJw",
        "colab_type": "text"
      },
      "source": [
        "#Teori dasar\n",
        "*Autoassociative memory* memiliki model neuron network dimana target memiliki dimensi dan nilai yang sama dengan data training yang dikehendaki sehingga pemodelan network dapat diamati sebagai berikut : https://prnt.sc/r89vmk\n",
        "\n",
        " Dalam melakukan proses belajar untuk mendapatkan weight dari masing-masing neuron, dalam hal ini digunakan dua buah pendekatan yaitu *hebbian rule* dan *pseudoinverse*.\n",
        "\n",
        "#Hebbian Rule\n",
        "https://prnt.sc/r89wca\n",
        "\n",
        "dengan t sebagai variabel target output vector dan variable P sebagai input vector yang masing-masing berdimensi 30x1 sehingga didapatkan ukuran weigth sebesar 30x30.\n",
        "\n",
        "#Pseudoinverse\n",
        "https://prnt.sc/r89x6y\n"
      ]
    },
    {
      "cell_type": "markdown",
      "metadata": {
        "id": "Z9tJ5Yst0MnY",
        "colab_type": "text"
      },
      "source": [
        "#Soal PR3\n",
        "Dalam memvisualiasikan suatu citra angka 0-9, dibuat dalam suatu 5x6 matriks (column x rows) dengan indeks yang bernilai -1\n",
        "menunjukkan bahwa bernilai kosong sedangkan untuk yang bernilai 1 bernilai terisi. lakukan pengujian menggunakan hebbian rule (*pattern recognition*) supervised untuk melakukan pengujian citra.\n"
      ]
    },
    {
      "cell_type": "markdown",
      "metadata": {
        "id": "sAo2VYBJ3rCl",
        "colab_type": "text"
      },
      "source": [
        "#Library"
      ]
    },
    {
      "cell_type": "code",
      "metadata": {
        "id": "Glr6pvX6yDrA",
        "colab_type": "code",
        "colab": {}
      },
      "source": [
        "import numpy as np\n",
        "import matplotlib.pyplot as plt\n",
        "from mpl_toolkits.axes_grid1 import ImageGrid"
      ],
      "execution_count": 0,
      "outputs": []
    },
    {
      "cell_type": "markdown",
      "metadata": {
        "id": "NT4n_y2Y3akC",
        "colab_type": "text"
      },
      "source": [
        "Berikutnya kita perlu medefinisikan angka 0-9 dalam suatu matrix yang berisi 5x6 pixel sebagai berikut:"
      ]
    },
    {
      "cell_type": "code",
      "metadata": {
        "id": "bJwYDokMyKn4",
        "colab_type": "code",
        "outputId": "7552c86c-c4c6-4832-e656-d70309ab35df",
        "colab": {
          "base_uri": "https://localhost:8080/",
          "height": 3042
        }
      },
      "source": [
        "pin0 = np.array([[-1,1,1,1,-1],\n",
        "                 [1,-1,-1,-1,1], \n",
        "                 [1,-1,-1,-1,1], \n",
        "                 [1,-1,-1,-1,1], \n",
        "                 [1,-1,-1,-1,1], \n",
        "                 [-1,1,1,1,-1]])\n",
        "pin1 = np.array([[-1,1,1,-1,-1], \n",
        "                [-1,-1,1,-1,-1], \n",
        "                [-1,-1,1,-1,-1], \n",
        "                [-1,-1,1,-1,-1], \n",
        "                [-1,-1,1,-1,-1], \n",
        "                [-1,1,1,1,-1]])\n",
        "pin2 = np.array([[1,1,1,-1,-1], \n",
        "                [-1,-1,-1,1,-1], \n",
        "                [-1,-1,-1,1,-1], \n",
        "                [-1,1,1,-1,-1], \n",
        "                [-1,1,-1,-1,-1], \n",
        "                [-1,1,1,1,1]])\n",
        "pin3 = np.array([[-1,1,1,1,1],\n",
        "                  [-1,-1,-1,-1,1],\n",
        "                  [-1,-1,-1,-1,1],\n",
        "                  [-1,-1,1,1,1],\n",
        "                  [-1,-1,-1,-1,1],\n",
        "                  [-1,1,1,1,1]])\n",
        "pin4 = np.array([[-1,1,-1,-1,1],\n",
        "                  [-1,1,-1,-1,1],\n",
        "                  [-1,1,1,1,1],\n",
        "                  [-1,-1,-1,-1,1],\n",
        "                  [-1,-1,-1,-1,1],\n",
        "                  [-1,-1,-1,-1,1]])\n",
        "pin5 = np.array([[1,1,1,1,1],\n",
        "                  [1,-1,-1,-1,-1],\n",
        "                  [1,-1,-1,-1,-1],\n",
        "                  [1,1,1,1,1],\n",
        "                  [-1,-1,-1,-1,1],\n",
        "                  [1,1,1,1,1]])\n",
        "pin6 = np.array([[1,1,1,1,1],\n",
        "                [1,-1,-1,-1,-1],\n",
        "                [1,-1,-1,-1,-1],\n",
        "                [1,1,1,1,1],\n",
        "                [1,-1,-1,-1,1],\n",
        "                [1,1,1,1,1]])\n",
        "pin7 = np.array([[1,1,1,1,1],\n",
        "                  [-1,-1,-1,-1,1],\n",
        "                  [-1,-1,-1,-1,1],\n",
        "                  [-1,-1,-1,-1,1],\n",
        "                  [-1,-1,-1,-1,1],\n",
        "                  [-1,-1,-1,-1,1]])\n",
        "pin8 = np.array([[1,1,1,1,1],\n",
        "                  [1,-1,-1,-1,1],\n",
        "                  [1,1,1,1,1],\n",
        "                  [1,1,1,1,1],\n",
        "                  [1,-1,-1,-1,1],\n",
        "                  [1,1,1,1,1]])\n",
        "pin9 = np.array([ [1,1,1,1,1],\n",
        "                  [1,-1,-1,-1,1],\n",
        "                  [1,-1,-1,-1,1],\n",
        "                  [1,1,1,1,1],\n",
        "                  [-1,-1,-1,-1,1],\n",
        "                  [-1,1,1,1,1]])\n",
        "#simpan angka tersebut dalam suatu array bernama angka\n",
        "angka = [pin0, pin1,pin2,pin3,pin4,pin5,pin6,pin7,pin8,pin9]\n",
        "for i in angka:\n",
        "    plt.matshow(i)"
      ],
      "execution_count": 145,
      "outputs": [
        {
          "output_type": "display_data",
          "data": {
            "image/png": "[encoded data removed]",
            "text/plain": [
              "<Figure size 288x345.6 with 1 Axes>"
            ]
          },
          "metadata": {
            "tags": []
          }
        },
        {
          "output_type": "display_data",
          "data": {
            "image/png": "[encoded data removed]",
            "text/plain": [
              "<Figure size 288x345.6 with 1 Axes>"
            ]
          },
          "metadata": {
            "tags": []
          }
        },
        {
          "output_type": "display_data",
          "data": {
            "image/png": "[encoded data removed]",
            "text/plain": [
              "<Figure size 288x345.6 with 1 Axes>"
            ]
          },
          "metadata": {
            "tags": []
          }
        },
        {
          "output_type": "display_data",
          "data": {
            "image/png": "[encoded data removed]",
            "text/plain": [
              "<Figure size 288x345.6 with 1 Axes>"
            ]
          },
          "metadata": {
            "tags": []
          }
        },
        {
          "output_type": "display_data",
          "data": {
            "image/png": "[encoded data removed]",
            "text/plain": [
              "<Figure size 288x345.6 with 1 Axes>"
            ]
          },
          "metadata": {
            "tags": []
          }
        },
        {
          "output_type": "display_data",
          "data": {
            "image/png": "[encoded data removed]",
            "text/plain": [
              "<Figure size 288x345.6 with 1 Axes>"
            ]
          },
          "metadata": {
            "tags": []
          }
        },
        {
          "output_type": "display_data",
          "data": {
            "image/png": "[encoded data removed]",
            "text/plain": [
              "<Figure size 288x345.6 with 1 Axes>"
            ]
          },
          "metadata": {
            "tags": []
          }
        },
        {
          "output_type": "display_data",
          "data": {
            "image/png": "[encoded data removed]",
            "text/plain": [
              "<Figure size 288x345.6 with 1 Axes>"
            ]
          },
          "metadata": {
            "tags": []
          }
        },
        {
          "output_type": "display_data",
          "data": {
            "image/png": "[encoded data removed]",
            "text/plain": [
              "<Figure size 288x345.6 with 1 Axes>"
            ]
          },
          "metadata": {
            "tags": []
          }
        },
        {
          "output_type": "display_data",
          "data": {
            "image/png": "[encoded data removed]",
            "text/plain": [
              "<Figure size 288x345.6 with 1 Axes>"
            ]
          },
          "metadata": {
            "tags": []
          }
        }
      ]
    },
    {
      "cell_type": "markdown",
      "metadata": {
        "id": "GfpZZTY5AcdH",
        "colab_type": "text"
      },
      "source": [
        "Jika kita ingin menguji perfomansi untuk data yang lebih sedikit terlebih dahulu katakanlah 4 buah data yang akan dicoba terlebih dahulu terhadap hebbian supervised learning ini. (angka 0,1,2,dan 3)"
      ]
    },
    {
      "cell_type": "code",
      "metadata": {
        "id": "DfCNbbkmBBFo",
        "colab_type": "code",
        "colab": {
          "base_uri": "https://localhost:8080/",
          "height": 1227
        },
        "outputId": "4b9776a6-c03c-49ec-d1f3-4b843949ffc3"
      },
      "source": [
        "#testing 4 angka awal dulu\n",
        "angka1 = [pin0, pin1,pin2,pin3]\n",
        "for i in angka1:\n",
        "    plt.matshow(i)"
      ],
      "execution_count": 146,
      "outputs": [
        {
          "output_type": "display_data",
          "data": {
            "image/png": "[encoded data removed]",
            "text/plain": [
              "<Figure size 288x345.6 with 1 Axes>"
            ]
          },
          "metadata": {
            "tags": []
          }
        },
        {
          "output_type": "display_data",
          "data": {
            "image/png": "[encoded data removed]",
            "text/plain": [
              "<Figure size 288x345.6 with 1 Axes>"
            ]
          },
          "metadata": {
            "tags": []
          }
        },
        {
          "output_type": "display_data",
          "data": {
            "image/png": "[encoded data removed]",
            "text/plain": [
              "<Figure size 288x345.6 with 1 Axes>"
            ]
          },
          "metadata": {
            "tags": []
          }
        },
        {
          "output_type": "display_data",
          "data": {
            "image/png": "[encoded data removed]",
            "text/plain": [
              "<Figure size 288x345.6 with 1 Axes>"
            ]
          },
          "metadata": {
            "tags": []
          }
        }
      ]
    },
    {
      "cell_type": "markdown",
      "metadata": {
        "id": "4WIrqVyO4Xwo",
        "colab_type": "text"
      },
      "source": [
        "pada test pengujian nanti pada *Autoassociative network* dinginkan dengan pengujian menggunakan *noisy pattern*. noise pattern ini akan diambil secara random dari 7 perubahan elemen tiap-tiap angka sebagai berikut:"
      ]
    },
    {
      "cell_type": "code",
      "metadata": {
        "id": "EKQAmDyCyRQr",
        "colab_type": "code",
        "outputId": "654d2623-2293-4a71-e64c-7afb1ba9150a",
        "colab": {
          "base_uri": "https://localhost:8080/",
          "height": 1227
        }
      },
      "source": [
        "angka_noise = [] #list array untuk noise dari 4 digit angka\n",
        "for pattern_new in angka1:\n",
        "    angka_noise.append(pattern_new.copy())\n",
        "for pattern_new in angka_noise:\n",
        "    noisy = np.random.choice(30, 7, replace=False) # ambil acak pada 7 pattern each element\n",
        "    for pix in noisy:\n",
        "        j = pix % 5\n",
        "        i = pix // 5\n",
        "        pattern_new[i, j] *= -1\n",
        "    plt.matshow(pattern_new)\n"
      ],
      "execution_count": 142,
      "outputs": [
        {
          "output_type": "display_data",
          "data": {
            "image/png": "[encoded data removed]",
            "text/plain": [
              "<Figure size 288x345.6 with 1 Axes>"
            ]
          },
          "metadata": {
            "tags": []
          }
        },
        {
          "output_type": "display_data",
          "data": {
            "image/png": "[encoded data removed]",
            "text/plain": [
              "<Figure size 288x345.6 with 1 Axes>"
            ]
          },
          "metadata": {
            "tags": []
          }
        },
        {
          "output_type": "display_data",
          "data": {
            "image/png": "[encoded data removed]",
            "text/plain": [
              "<Figure size 288x345.6 with 1 Axes>"
            ]
          },
          "metadata": {
            "tags": []
          }
        },
        {
          "output_type": "display_data",
          "data": {
            "image/png": "[encoded data removed]",
            "text/plain": [
              "<Figure size 288x345.6 with 1 Axes>"
            ]
          },
          "metadata": {
            "tags": []
          }
        }
      ]
    },
    {
      "cell_type": "markdown",
      "metadata": {
        "id": "4ZA_cu7w8gPO",
        "colab_type": "text"
      },
      "source": [
        "![alt text](https://)"
      ]
    },
    {
      "cell_type": "code",
      "metadata": {
        "id": "3pevDRMlUOtZ",
        "colab_type": "code",
        "colab": {}
      },
      "source": [
        ""
      ],
      "execution_count": 0,
      "outputs": []
    },
    {
      "cell_type": "code",
      "metadata": {
        "id": "kO8skmTKygUJ",
        "colab_type": "code",
        "outputId": "66c24a1b-c5ff-4582-f08d-ef2da3ed9db6",
        "colab": {
          "base_uri": "https://localhost:8080/",
          "height": 992
        }
      },
      "source": [
        "#Define zero weight at first 30x30\n",
        "Weight = np.zeros(30*30).reshape(30, 30)\n",
        "print(Weight)"
      ],
      "execution_count": 143,
      "outputs": [
        {
          "output_type": "stream",
          "text": [
            "[[0. 0. 0. 0. 0. 0. 0. 0. 0. 0. 0. 0. 0. 0. 0. 0. 0. 0. 0. 0. 0. 0. 0. 0.\n",
            "  0. 0. 0. 0. 0. 0.]\n",
            " [0. 0. 0. 0. 0. 0. 0. 0. 0. 0. 0. 0. 0. 0. 0. 0. 0. 0. 0. 0. 0. 0. 0. 0.\n",
            "  0. 0. 0. 0. 0. 0.]\n",
            " [0. 0. 0. 0. 0. 0. 0. 0. 0. 0. 0. 0. 0. 0. 0. 0. 0. 0. 0. 0. 0. 0. 0. 0.\n",
            "  0. 0. 0. 0. 0. 0.]\n",
            " [0. 0. 0. 0. 0. 0. 0. 0. 0. 0. 0. 0. 0. 0. 0. 0. 0. 0. 0. 0. 0. 0. 0. 0.\n",
            "  0. 0. 0. 0. 0. 0.]\n",
            " [0. 0. 0. 0. 0. 0. 0. 0. 0. 0. 0. 0. 0. 0. 0. 0. 0. 0. 0. 0. 0. 0. 0. 0.\n",
            "  0. 0. 0. 0. 0. 0.]\n",
            " [0. 0. 0. 0. 0. 0. 0. 0. 0. 0. 0. 0. 0. 0. 0. 0. 0. 0. 0. 0. 0. 0. 0. 0.\n",
            "  0. 0. 0. 0. 0. 0.]\n",
            " [0. 0. 0. 0. 0. 0. 0. 0. 0. 0. 0. 0. 0. 0. 0. 0. 0. 0. 0. 0. 0. 0. 0. 0.\n",
            "  0. 0. 0. 0. 0. 0.]\n",
            " [0. 0. 0. 0. 0. 0. 0. 0. 0. 0. 0. 0. 0. 0. 0. 0. 0. 0. 0. 0. 0. 0. 0. 0.\n",
            "  0. 0. 0. 0. 0. 0.]\n",
            " [0. 0. 0. 0. 0. 0. 0. 0. 0. 0. 0. 0. 0. 0. 0. 0. 0. 0. 0. 0. 0. 0. 0. 0.\n",
            "  0. 0. 0. 0. 0. 0.]\n",
            " [0. 0. 0. 0. 0. 0. 0. 0. 0. 0. 0. 0. 0. 0. 0. 0. 0. 0. 0. 0. 0. 0. 0. 0.\n",
            "  0. 0. 0. 0. 0. 0.]\n",
            " [0. 0. 0. 0. 0. 0. 0. 0. 0. 0. 0. 0. 0. 0. 0. 0. 0. 0. 0. 0. 0. 0. 0. 0.\n",
            "  0. 0. 0. 0. 0. 0.]\n",
            " [0. 0. 0. 0. 0. 0. 0. 0. 0. 0. 0. 0. 0. 0. 0. 0. 0. 0. 0. 0. 0. 0. 0. 0.\n",
            "  0. 0. 0. 0. 0. 0.]\n",
            " [0. 0. 0. 0. 0. 0. 0. 0. 0. 0. 0. 0. 0. 0. 0. 0. 0. 0. 0. 0. 0. 0. 0. 0.\n",
            "  0. 0. 0. 0. 0. 0.]\n",
            " [0. 0. 0. 0. 0. 0. 0. 0. 0. 0. 0. 0. 0. 0. 0. 0. 0. 0. 0. 0. 0. 0. 0. 0.\n",
            "  0. 0. 0. 0. 0. 0.]\n",
            " [0. 0. 0. 0. 0. 0. 0. 0. 0. 0. 0. 0. 0. 0. 0. 0. 0. 0. 0. 0. 0. 0. 0. 0.\n",
            "  0. 0. 0. 0. 0. 0.]\n",
            " [0. 0. 0. 0. 0. 0. 0. 0. 0. 0. 0. 0. 0. 0. 0. 0. 0. 0. 0. 0. 0. 0. 0. 0.\n",
            "  0. 0. 0. 0. 0. 0.]\n",
            " [0. 0. 0. 0. 0. 0. 0. 0. 0. 0. 0. 0. 0. 0. 0. 0. 0. 0. 0. 0. 0. 0. 0. 0.\n",
            "  0. 0. 0. 0. 0. 0.]\n",
            " [0. 0. 0. 0. 0. 0. 0. 0. 0. 0. 0. 0. 0. 0. 0. 0. 0. 0. 0. 0. 0. 0. 0. 0.\n",
            "  0. 0. 0. 0. 0. 0.]\n",
            " [0. 0. 0. 0. 0. 0. 0. 0. 0. 0. 0. 0. 0. 0. 0. 0. 0. 0. 0. 0. 0. 0. 0. 0.\n",
            "  0. 0. 0. 0. 0. 0.]\n",
            " [0. 0. 0. 0. 0. 0. 0. 0. 0. 0. 0. 0. 0. 0. 0. 0. 0. 0. 0. 0. 0. 0. 0. 0.\n",
            "  0. 0. 0. 0. 0. 0.]\n",
            " [0. 0. 0. 0. 0. 0. 0. 0. 0. 0. 0. 0. 0. 0. 0. 0. 0. 0. 0. 0. 0. 0. 0. 0.\n",
            "  0. 0. 0. 0. 0. 0.]\n",
            " [0. 0. 0. 0. 0. 0. 0. 0. 0. 0. 0. 0. 0. 0. 0. 0. 0. 0. 0. 0. 0. 0. 0. 0.\n",
            "  0. 0. 0. 0. 0. 0.]\n",
            " [0. 0. 0. 0. 0. 0. 0. 0. 0. 0. 0. 0. 0. 0. 0. 0. 0. 0. 0. 0. 0. 0. 0. 0.\n",
            "  0. 0. 0. 0. 0. 0.]\n",
            " [0. 0. 0. 0. 0. 0. 0. 0. 0. 0. 0. 0. 0. 0. 0. 0. 0. 0. 0. 0. 0. 0. 0. 0.\n",
            "  0. 0. 0. 0. 0. 0.]\n",
            " [0. 0. 0. 0. 0. 0. 0. 0. 0. 0. 0. 0. 0. 0. 0. 0. 0. 0. 0. 0. 0. 0. 0. 0.\n",
            "  0. 0. 0. 0. 0. 0.]\n",
            " [0. 0. 0. 0. 0. 0. 0. 0. 0. 0. 0. 0. 0. 0. 0. 0. 0. 0. 0. 0. 0. 0. 0. 0.\n",
            "  0. 0. 0. 0. 0. 0.]\n",
            " [0. 0. 0. 0. 0. 0. 0. 0. 0. 0. 0. 0. 0. 0. 0. 0. 0. 0. 0. 0. 0. 0. 0. 0.\n",
            "  0. 0. 0. 0. 0. 0.]\n",
            " [0. 0. 0. 0. 0. 0. 0. 0. 0. 0. 0. 0. 0. 0. 0. 0. 0. 0. 0. 0. 0. 0. 0. 0.\n",
            "  0. 0. 0. 0. 0. 0.]\n",
            " [0. 0. 0. 0. 0. 0. 0. 0. 0. 0. 0. 0. 0. 0. 0. 0. 0. 0. 0. 0. 0. 0. 0. 0.\n",
            "  0. 0. 0. 0. 0. 0.]\n",
            " [0. 0. 0. 0. 0. 0. 0. 0. 0. 0. 0. 0. 0. 0. 0. 0. 0. 0. 0. 0. 0. 0. 0. 0.\n",
            "  0. 0. 0. 0. 0. 0.]]\n"
          ],
          "name": "stdout"
        }
      ]
    },
    {
      "cell_type": "code",
      "metadata": {
        "id": "_uG0TsN_5LGp",
        "colab_type": "code",
        "colab": {}
      },
      "source": [
        "#Membuat Input vector dan Input Vector Noisy dalam suatu list-array\n",
        "P = [] # input vector\n",
        "P_noise = [] # input vector noisy pattern\n",
        "for number in angka1:\n",
        "    P.append(number.flatten())\n",
        "for number in angka_noise:\n",
        "    P_noise.append(number.flatten())"
      ],
      "execution_count": 0,
      "outputs": []
    },
    {
      "cell_type": "code",
      "metadata": {
        "id": "_dyTlIze5SJC",
        "colab_type": "code",
        "outputId": "3a25de85-27c9-4a02-defa-08788eb0e9c9",
        "colab": {
          "base_uri": "https://localhost:8080/",
          "height": 1480
        }
      },
      "source": [
        "#Menghitung strength weight dari network input 4 digit pertama\n",
        "for p in P:\n",
        "    alpha = np.outer(p, p)# vector produk\n",
        "    Weight += alpha\n",
        "#plt.matshow(Weight)\n",
        "print(Weight)\n"
      ],
      "execution_count": 152,
      "outputs": [
        {
          "output_type": "stream",
          "text": [
            "[[ 16.  -8.  -8.  -8.   0.   0.   8.   0.  16.  -8.   0.   8.   0.  16.\n",
            "   -8.   0.  16.   0.   0.  -8.   0.  16.   0.   8.  -8.   8.  -8.  -8.\n",
            "   -8.   8.]\n",
            " [ -8.  16.  16.   0.  -8.  -8. -16.  -8.  -8.   0.  -8. -16.  -8.  -8.\n",
            "    0.  -8.  -8.   8.  -8.   0.  -8.  -8.  -8. -16.   0. -16.  16.  16.\n",
            "   16.   0.]\n",
            " [ -8.  16.  16.   0.  -8.  -8. -16.  -8.  -8.   0.  -8. -16.  -8.  -8.\n",
            "    0.  -8.  -8.   8.  -8.   0.  -8.  -8.  -8. -16.   0. -16.  16.  16.\n",
            "   16.   0.]\n",
            " [ -8.   0.   0.  16.   8.   8.   0.  -8.  -8.  16.   8.   0.  -8.  -8.\n",
            "   16.   8.  -8.  -8.   8.  16.   8.  -8.  -8.   0.  16.   0.   0.   0.\n",
            "    0.   0.]\n",
            " [  0.  -8.  -8.   8.  16.   0.   8.   0.   0.   8.   0.   8.   0.   0.\n",
            "    8.   0.   0.   0.  16.   8.   0.   0.   0.   8.   8.   8.  -8.  -8.\n",
            "   -8.   8.]\n",
            " [  0.  -8.  -8.   8.   0.  16.   8.   0.   0.   8.  16.   8.   0.   0.\n",
            "    8.  16.   0. -16.   0.   8.  16.   0.   0.   8.   8.   8.  -8.  -8.\n",
            "   -8.  -8.]\n",
            " [  8. -16. -16.   0.   8.   8.  16.   8.   8.   0.   8.  16.   8.   8.\n",
            "    0.   8.   8.  -8.   8.   0.   8.   8.   8.  16.   0.  16. -16. -16.\n",
            "  -16.   0.]\n",
            " [  0.  -8.  -8.  -8.   0.   0.   8.  16.   0.  -8.   0.   8.  16.   0.\n",
            "   -8.   0.   0.   0.   0.  -8.   0.   0.  16.   8.  -8.   8.  -8.  -8.\n",
            "   -8.  -8.]\n",
            " [ 16.  -8.  -8.  -8.   0.   0.   8.   0.  16.  -8.   0.   8.   0.  16.\n",
            "   -8.   0.  16.   0.   0.  -8.   0.  16.   0.   8.  -8.   8.  -8.  -8.\n",
            "   -8.   8.]\n",
            " [ -8.   0.   0.  16.   8.   8.   0.  -8.  -8.  16.   8.   0.  -8.  -8.\n",
            "   16.   8.  -8.  -8.   8.  16.   8.  -8.  -8.   0.  16.   0.   0.   0.\n",
            "    0.   0.]\n",
            " [  0.  -8.  -8.   8.   0.  16.   8.   0.   0.   8.  16.   8.   0.   0.\n",
            "    8.  16.   0. -16.   0.   8.  16.   0.   0.   8.   8.   8.  -8.  -8.\n",
            "   -8.  -8.]\n",
            " [  8. -16. -16.   0.   8.   8.  16.   8.   8.   0.   8.  16.   8.   8.\n",
            "    0.   8.   8.  -8.   8.   0.   8.   8.   8.  16.   0.  16. -16. -16.\n",
            "  -16.   0.]\n",
            " [  0.  -8.  -8.  -8.   0.   0.   8.  16.   0.  -8.   0.   8.  16.   0.\n",
            "   -8.   0.   0.   0.   0.  -8.   0.   0.  16.   8.  -8.   8.  -8.  -8.\n",
            "   -8.  -8.]\n",
            " [ 16.  -8.  -8.  -8.   0.   0.   8.   0.  16.  -8.   0.   8.   0.  16.\n",
            "   -8.   0.  16.   0.   0.  -8.   0.  16.   0.   8.  -8.   8.  -8.  -8.\n",
            "   -8.   8.]\n",
            " [ -8.   0.   0.  16.   8.   8.   0.  -8.  -8.  16.   8.   0.  -8.  -8.\n",
            "   16.   8.  -8.  -8.   8.  16.   8.  -8.  -8.   0.  16.   0.   0.   0.\n",
            "    0.   0.]\n",
            " [  0.  -8.  -8.   8.   0.  16.   8.   0.   0.   8.  16.   8.   0.   0.\n",
            "    8.  16.   0. -16.   0.   8.  16.   0.   0.   8.   8.   8.  -8.  -8.\n",
            "   -8.  -8.]\n",
            " [ 16.  -8.  -8.  -8.   0.   0.   8.   0.  16.  -8.   0.   8.   0.  16.\n",
            "   -8.   0.  16.   0.   0.  -8.   0.  16.   0.   8.  -8.   8.  -8.  -8.\n",
            "   -8.   8.]\n",
            " [  0.   8.   8.  -8.   0. -16.  -8.   0.   0.  -8. -16.  -8.   0.   0.\n",
            "   -8. -16.   0.  16.   0.  -8. -16.   0.   0.  -8.  -8.  -8.   8.   8.\n",
            "    8.   8.]\n",
            " [  0.  -8.  -8.   8.  16.   0.   8.   0.   0.   8.   0.   8.   0.   0.\n",
            "    8.   0.   0.   0.  16.   8.   0.   0.   0.   8.   8.   8.  -8.  -8.\n",
            "   -8.   8.]\n",
            " [ -8.   0.   0.  16.   8.   8.   0.  -8.  -8.  16.   8.   0.  -8.  -8.\n",
            "   16.   8.  -8.  -8.   8.  16.   8.  -8.  -8.   0.  16.   0.   0.   0.\n",
            "    0.   0.]\n",
            " [  0.  -8.  -8.   8.   0.  16.   8.   0.   0.   8.  16.   8.   0.   0.\n",
            "    8.  16.   0. -16.   0.   8.  16.   0.   0.   8.   8.   8.  -8.  -8.\n",
            "   -8.  -8.]\n",
            " [ 16.  -8.  -8.  -8.   0.   0.   8.   0.  16.  -8.   0.   8.   0.  16.\n",
            "   -8.   0.  16.   0.   0.  -8.   0.  16.   0.   8.  -8.   8.  -8.  -8.\n",
            "   -8.   8.]\n",
            " [  0.  -8.  -8.  -8.   0.   0.   8.  16.   0.  -8.   0.   8.  16.   0.\n",
            "   -8.   0.   0.   0.   0.  -8.   0.   0.  16.   8.  -8.   8.  -8.  -8.\n",
            "   -8.  -8.]\n",
            " [  8. -16. -16.   0.   8.   8.  16.   8.   8.   0.   8.  16.   8.   8.\n",
            "    0.   8.   8.  -8.   8.   0.   8.   8.   8.  16.   0.  16. -16. -16.\n",
            "  -16.   0.]\n",
            " [ -8.   0.   0.  16.   8.   8.   0.  -8.  -8.  16.   8.   0.  -8.  -8.\n",
            "   16.   8.  -8.  -8.   8.  16.   8.  -8.  -8.   0.  16.   0.   0.   0.\n",
            "    0.   0.]\n",
            " [  8. -16. -16.   0.   8.   8.  16.   8.   8.   0.   8.  16.   8.   8.\n",
            "    0.   8.   8.  -8.   8.   0.   8.   8.   8.  16.   0.  16. -16. -16.\n",
            "  -16.   0.]\n",
            " [ -8.  16.  16.   0.  -8.  -8. -16.  -8.  -8.   0.  -8. -16.  -8.  -8.\n",
            "    0.  -8.  -8.   8.  -8.   0.  -8.  -8.  -8. -16.   0. -16.  16.  16.\n",
            "   16.   0.]\n",
            " [ -8.  16.  16.   0.  -8.  -8. -16.  -8.  -8.   0.  -8. -16.  -8.  -8.\n",
            "    0.  -8.  -8.   8.  -8.   0.  -8.  -8.  -8. -16.   0. -16.  16.  16.\n",
            "   16.   0.]\n",
            " [ -8.  16.  16.   0.  -8.  -8. -16.  -8.  -8.   0.  -8. -16.  -8.  -8.\n",
            "    0.  -8.  -8.   8.  -8.   0.  -8.  -8.  -8. -16.   0. -16.  16.  16.\n",
            "   16.   0.]\n",
            " [  8.   0.   0.   0.   8.  -8.   0.  -8.   8.   0.  -8.   0.  -8.   8.\n",
            "    0.  -8.   8.   8.   8.   0.  -8.   8.  -8.   0.   0.   0.   0.   0.\n",
            "    0.  16.]]\n"
          ],
          "name": "stdout"
        }
      ]
    },
    {
      "cell_type": "code",
      "metadata": {
        "id": "mHDVpJp15W0h",
        "colab_type": "code",
        "colab": {}
      },
      "source": [
        ""
      ],
      "execution_count": 0,
      "outputs": []
    },
    {
      "cell_type": "markdown",
      "metadata": {
        "id": "o5M3LrQW5oDN",
        "colab_type": "text"
      },
      "source": [
        "#Testing Network yang sudah dirancang\n",
        "karna tadi sudah mendapatkan weight dari ke4 data testing maka dilakukan pengujian kembali untuk melihat apakah network yang telah dibangun benar dengan menggunakan persamaan hardlimiter sebagai berikut :\n",
        "\n",
        " y= hardlim(Wp)\n",
        "\n",
        " dimana hardlim(Wp) = 1 jika x>=0 , dan hardlim(Wp) = -1 untuk x<0. \n"
      ]
    },
    {
      "cell_type": "code",
      "metadata": {
        "id": "M_KLb-Iv5piG",
        "colab_type": "code",
        "colab": {}
      },
      "source": [
        "#membuat fungsi hardlimiter\n",
        "def hardlim(W_p):\n",
        "    for i in range(W_p.size):\n",
        "        if (W_p[i] >= 0):\n",
        "            W_p[i] = 1\n",
        "        else:\n",
        "            W_p[i] = -1\n",
        "    print(W_p)\n",
        "    return np.array(W_p)"
      ],
      "execution_count": 0,
      "outputs": []
    },
    {
      "cell_type": "code",
      "metadata": {
        "id": "6ge77_2a5q1K",
        "colab_type": "code",
        "outputId": "bd3ce16e-6587-424d-828a-e6cb03e7d8c8",
        "colab": {
          "base_uri": "https://localhost:8080/",
          "height": 1422
        }
      },
      "source": [
        "#multiplikasi matriks \n",
        "for p in P:\n",
        "    a = np.matmul(Weight, p)#matriks multiplikasi\n",
        "    a = hardlim(a)\n",
        "    a = a.reshape(6, 5) #transformasi menjadi matrix 6x5\n",
        "    print(type(a), a.shape)\n",
        "    plt.matshow(a)\n"
      ],
      "execution_count": 154,
      "outputs": [
        {
          "output_type": "stream",
          "text": [
            "[-1.  1.  1.  1. -1.  1. -1. -1. -1.  1.  1. -1. -1. -1.  1.  1. -1. -1.\n",
            " -1.  1.  1. -1. -1. -1.  1. -1.  1.  1.  1. -1.]\n",
            "<class 'numpy.ndarray'> (6, 5)\n",
            "[-1.  1.  1. -1. -1. -1. -1.  1. -1. -1. -1. -1.  1. -1. -1. -1. -1.  1.\n",
            " -1. -1. -1. -1.  1. -1. -1. -1.  1.  1.  1. -1.]\n",
            "<class 'numpy.ndarray'> (6, 5)\n",
            "[ 1.  1.  1. -1. -1. -1. -1. -1.  1. -1. -1. -1. -1.  1. -1. -1.  1.  1.\n",
            " -1. -1. -1.  1. -1. -1. -1. -1.  1.  1.  1.  1.]\n",
            "<class 'numpy.ndarray'> (6, 5)\n",
            "[-1.  1.  1.  1.  1. -1. -1. -1. -1.  1. -1. -1. -1. -1.  1. -1. -1.  1.\n",
            "  1.  1. -1. -1. -1. -1.  1. -1.  1.  1.  1.  1.]\n",
            "<class 'numpy.ndarray'> (6, 5)\n"
          ],
          "name": "stdout"
        },
        {
          "output_type": "display_data",
          "data": {
            "image/png": "[encoded data removed]",
            "text/plain": [
              "<Figure size 288x345.6 with 1 Axes>"
            ]
          },
          "metadata": {
            "tags": []
          }
        },
        {
          "output_type": "display_data",
          "data": {
            "image/png": "[encoded data removed]",
            "text/plain": [
              "<Figure size 288x345.6 with 1 Axes>"
            ]
          },
          "metadata": {
            "tags": []
          }
        },
        {
          "output_type": "display_data",
          "data": {
            "image/png": "[encoded data removed]",
            "text/plain": [
              "<Figure size 288x345.6 with 1 Axes>"
            ]
          },
          "metadata": {
            "tags": []
          }
        },
        {
          "output_type": "display_data",
          "data": {
            "image/png": "[encoded data removed]",
            "text/plain": [
              "<Figure size 288x345.6 with 1 Axes>"
            ]
          },
          "metadata": {
            "tags": []
          }
        }
      ]
    },
    {
      "cell_type": "markdown",
      "metadata": {
        "id": "l19G618VS8b4",
        "colab_type": "text"
      },
      "source": [
        "Dapat dilihat bahwa data test yang diinput atau kita bilang sebagai variable P masih menyerupai dengan target output vektor t dalam hal ini menunjukkan bahwa *network sudah dilakukan traning* dengan benar."
      ]
    },
    {
      "cell_type": "markdown",
      "metadata": {
        "id": "J9ARGEeI541G",
        "colab_type": "text"
      },
      "source": [
        "Berikutnya dicoba untuk kasus input citra yang terdapat *noisy pattern* ."
      ]
    },
    {
      "cell_type": "code",
      "metadata": {
        "id": "F0Q8bchM5-EH",
        "colab_type": "code",
        "outputId": "49fc3554-028c-4ccc-9f29-927185a38c47",
        "colab": {
          "base_uri": "https://localhost:8080/",
          "height": 1422
        }
      },
      "source": [
        "#melakukan testing menggunakan input yang terdapat noisy pattern\n",
        "for p in P_noise:\n",
        "    a = np.matmul(Weight, p)\n",
        "    a = hardlim(a)\n",
        "    a = a.reshape(6, 5)\n",
        "    print(type(a), a.shape)\n",
        "    plt.matshow(p.reshape(6,5))\n",
        "    #plt.matshow(a)"
      ],
      "execution_count": 160,
      "outputs": [
        {
          "output_type": "stream",
          "text": [
            "[-1.  1.  1.  1. -1.  1. -1. -1. -1.  1.  1. -1. -1. -1.  1.  1. -1. -1.\n",
            " -1.  1.  1. -1. -1. -1.  1. -1.  1.  1.  1. -1.]\n",
            "<class 'numpy.ndarray'> (6, 5)\n",
            "[-1.  1.  1. -1. -1. -1. -1.  1. -1. -1. -1. -1.  1. -1. -1. -1. -1.  1.\n",
            " -1. -1. -1. -1.  1. -1. -1. -1.  1.  1.  1. -1.]\n",
            "<class 'numpy.ndarray'> (6, 5)\n",
            "[ 1.  1.  1. -1. -1. -1. -1. -1.  1. -1. -1. -1. -1.  1. -1. -1.  1.  1.\n",
            " -1. -1. -1.  1. -1. -1. -1. -1.  1.  1.  1.  1.]\n",
            "<class 'numpy.ndarray'> (6, 5)\n",
            "[-1.  1.  1.  1.  1. -1. -1. -1. -1.  1. -1. -1. -1. -1.  1. -1. -1.  1.\n",
            "  1.  1. -1. -1. -1. -1.  1. -1.  1.  1.  1.  1.]\n",
            "<class 'numpy.ndarray'> (6, 5)\n"
          ],
          "name": "stdout"
        },
        {
          "output_type": "display_data",
          "data": {
            "image/png": "[encoded data removed]",
            "text/plain": [
              "<Figure size 288x345.6 with 1 Axes>"
            ]
          },
          "metadata": {
            "tags": []
          }
        },
        {
          "output_type": "display_data",
          "data": {
            "image/png": "[encoded data removed]",
            "text/plain": [
              "<Figure size 288x345.6 with 1 Axes>"
            ]
          },
          "metadata": {
            "tags": []
          }
        },
        {
          "output_type": "display_data",
          "data": {
            "image/png": "[encoded data removed]",
            "text/plain": [
              "<Figure size 288x345.6 with 1 Axes>"
            ]
          },
          "metadata": {
            "tags": []
          }
        },
        {
          "output_type": "display_data",
          "data": {
            "image/png": "[encoded data removed]",
            "text/plain": [
              "<Figure size 288x345.6 with 1 Axes>"
            ]
          },
          "metadata": {
            "tags": []
          }
        }
      ]
    },
    {
      "cell_type": "markdown",
      "metadata": {
        "id": "ZH-VYPsKIPkU",
        "colab_type": "text"
      },
      "source": [
        "Bentuk citra yang diberikan input noisy tidak mampu mengikuti citra target output vectornya dalam halam ini.Berikutnya dicoba untuk inputan angka 0-9 :"
      ]
    },
    {
      "cell_type": "code",
      "metadata": {
        "id": "BMVrj1Cn6CJL",
        "colab_type": "code",
        "colab": {
          "base_uri": "https://localhost:8080/",
          "height": 3042
        },
        "outputId": "8eafb20f-46fc-4c02-aad9-cd298ca7dc86"
      },
      "source": [
        "for i in angka:\n",
        "    plt.matshow(i)"
      ],
      "execution_count": 161,
      "outputs": [
        {
          "output_type": "display_data",
          "data": {
            "image/png": "[encoded data removed]",
            "text/plain": [
              "<Figure size 288x345.6 with 1 Axes>"
            ]
          },
          "metadata": {
            "tags": []
          }
        },
        {
          "output_type": "display_data",
          "data": {
            "image/png": "[encoded data removed]",
            "text/plain": [
              "<Figure size 288x345.6 with 1 Axes>"
            ]
          },
          "metadata": {
            "tags": []
          }
        },
        {
          "output_type": "display_data",
          "data": {
            "image/png": "[encoded data removed]",
            "text/plain": [
              "<Figure size 288x345.6 with 1 Axes>"
            ]
          },
          "metadata": {
            "tags": []
          }
        },
        {
          "output_type": "display_data",
          "data": {
            "image/png": "[encoded data removed]",
            "text/plain": [
              "<Figure size 288x345.6 with 1 Axes>"
            ]
          },
          "metadata": {
            "tags": []
          }
        },
        {
          "output_type": "display_data",
          "data": {
            "image/png": "[encoded data removed]",
            "text/plain": [
              "<Figure size 288x345.6 with 1 Axes>"
            ]
          },
          "metadata": {
            "tags": []
          }
        },
        {
          "output_type": "display_data",
          "data": {
            "image/png": "[encoded data removed]",
            "text/plain": [
              "<Figure size 288x345.6 with 1 Axes>"
            ]
          },
          "metadata": {
            "tags": []
          }
        },
        {
          "output_type": "display_data",
          "data": {
            "image/png": "[encoded data removed]",
            "text/plain": [
              "<Figure size 288x345.6 with 1 Axes>"
            ]
          },
          "metadata": {
            "tags": []
          }
        },
        {
          "output_type": "display_data",
          "data": {
            "image/png": "[encoded data removed]",
            "text/plain": [
              "<Figure size 288x345.6 with 1 Axes>"
            ]
          },
          "metadata": {
            "tags": []
          }
        },
        {
          "output_type": "display_data",
          "data": {
            "image/png": "[encoded data removed]",
            "text/plain": [
              "<Figure size 288x345.6 with 1 Axes>"
            ]
          },
          "metadata": {
            "tags": []
          }
        },
        {
          "output_type": "display_data",
          "data": {
            "image/png": "[encoded data removed]",
            "text/plain": [
              "<Figure size 288x345.6 with 1 Axes>"
            ]
          },
          "metadata": {
            "tags": []
          }
        }
      ]
    },
    {
      "cell_type": "code",
      "metadata": {
        "id": "DpNSDT-IIW5z",
        "colab_type": "code",
        "colab": {
          "base_uri": "https://localhost:8080/",
          "height": 3042
        },
        "outputId": "22e46ca5-0797-42d6-dc0b-8854340ed23d"
      },
      "source": [
        "#membuat list array noise yang baru dengan digit input 0-9\n",
        "angka_noise_new = [] #list array noise baru\n",
        "\n",
        "for numb in angka:\n",
        "    angka_noise_new.append(numb.copy())\n",
        "for numb in angka_noise_new:\n",
        "    noisy_pattern = np.random.choice(30, 7, replace=False) # ambil acak pada 7 pattern each element\n",
        "    for pix in noisy_pattern:\n",
        "        j = pix % 5\n",
        "        i = pix // 5\n",
        "        numb[i, j] *= -1\n",
        "    plt.matshow(numb) #generate img noisy pattern"
      ],
      "execution_count": 163,
      "outputs": [
        {
          "output_type": "display_data",
          "data": {
            "image/png": "[encoded data removed]",
            "text/plain": [
              "<Figure size 288x345.6 with 1 Axes>"
            ]
          },
          "metadata": {
            "tags": []
          }
        },
        {
          "output_type": "display_data",
          "data": {
            "image/png": "[encoded data removed]",
            "text/plain": [
              "<Figure size 288x345.6 with 1 Axes>"
            ]
          },
          "metadata": {
            "tags": []
          }
        },
        {
          "output_type": "display_data",
          "data": {
            "image/png": "[encoded data removed]",
            "text/plain": [
              "<Figure size 288x345.6 with 1 Axes>"
            ]
          },
          "metadata": {
            "tags": []
          }
        },
        {
          "output_type": "display_data",
          "data": {
            "image/png": "[encoded data removed]",
            "text/plain": [
              "<Figure size 288x345.6 with 1 Axes>"
            ]
          },
          "metadata": {
            "tags": []
          }
        },
        {
          "output_type": "display_data",
          "data": {
            "image/png": "[encoded data removed]",
            "text/plain": [
              "<Figure size 288x345.6 with 1 Axes>"
            ]
          },
          "metadata": {
            "tags": []
          }
        },
        {
          "output_type": "display_data",
          "data": {
            "image/png": "[encoded data removed]",
            "text/plain": [
              "<Figure size 288x345.6 with 1 Axes>"
            ]
          },
          "metadata": {
            "tags": []
          }
        },
        {
          "output_type": "display_data",
          "data": {
            "image/png": "[encoded data removed]",
            "text/plain": [
              "<Figure size 288x345.6 with 1 Axes>"
            ]
          },
          "metadata": {
            "tags": []
          }
        },
        {
          "output_type": "display_data",
          "data": {
            "image/png": "[encoded data removed]",
            "text/plain": [
              "<Figure size 288x345.6 with 1 Axes>"
            ]
          },
          "metadata": {
            "tags": []
          }
        },
        {
          "output_type": "display_data",
          "data": {
            "image/png": "[encoded data removed]",
            "text/plain": [
              "<Figure size 288x345.6 with 1 Axes>"
            ]
          },
          "metadata": {
            "tags": []
          }
        },
        {
          "output_type": "display_data",
          "data": {
            "image/png": "[encoded data removed]",
            "text/plain": [
              "<Figure size 288x345.6 with 1 Axes>"
            ]
          },
          "metadata": {
            "tags": []
          }
        }
      ]
    },
    {
      "cell_type": "code",
      "metadata": {
        "id": "xYcHag5nJEB8",
        "colab_type": "code",
        "colab": {
          "base_uri": "https://localhost:8080/",
          "height": 992
        },
        "outputId": "636957ba-53e7-4871-c456-26362e29a489"
      },
      "source": [
        "#Define Weight baru\n",
        "W = np.zeros(30*30).reshape(30, 30)\n",
        "W"
      ],
      "execution_count": 165,
      "outputs": [
        {
          "output_type": "execute_result",
          "data": {
            "text/plain": [
              "array([[0., 0., 0., 0., 0., 0., 0., 0., 0., 0., 0., 0., 0., 0., 0., 0.,\n",
              "        0., 0., 0., 0., 0., 0., 0., 0., 0., 0., 0., 0., 0., 0.],\n",
              "       [0., 0., 0., 0., 0., 0., 0., 0., 0., 0., 0., 0., 0., 0., 0., 0.,\n",
              "        0., 0., 0., 0., 0., 0., 0., 0., 0., 0., 0., 0., 0., 0.],\n",
              "       [0., 0., 0., 0., 0., 0., 0., 0., 0., 0., 0., 0., 0., 0., 0., 0.,\n",
              "        0., 0., 0., 0., 0., 0., 0., 0., 0., 0., 0., 0., 0., 0.],\n",
              "       [0., 0., 0., 0., 0., 0., 0., 0., 0., 0., 0., 0., 0., 0., 0., 0.,\n",
              "        0., 0., 0., 0., 0., 0., 0., 0., 0., 0., 0., 0., 0., 0.],\n",
              "       [0., 0., 0., 0., 0., 0., 0., 0., 0., 0., 0., 0., 0., 0., 0., 0.,\n",
              "        0., 0., 0., 0., 0., 0., 0., 0., 0., 0., 0., 0., 0., 0.],\n",
              "       [0., 0., 0., 0., 0., 0., 0., 0., 0., 0., 0., 0., 0., 0., 0., 0.,\n",
              "        0., 0., 0., 0., 0., 0., 0., 0., 0., 0., 0., 0., 0., 0.],\n",
              "       [0., 0., 0., 0., 0., 0., 0., 0., 0., 0., 0., 0., 0., 0., 0., 0.,\n",
              "        0., 0., 0., 0., 0., 0., 0., 0., 0., 0., 0., 0., 0., 0.],\n",
              "       [0., 0., 0., 0., 0., 0., 0., 0., 0., 0., 0., 0., 0., 0., 0., 0.,\n",
              "        0., 0., 0., 0., 0., 0., 0., 0., 0., 0., 0., 0., 0., 0.],\n",
              "       [0., 0., 0., 0., 0., 0., 0., 0., 0., 0., 0., 0., 0., 0., 0., 0.,\n",
              "        0., 0., 0., 0., 0., 0., 0., 0., 0., 0., 0., 0., 0., 0.],\n",
              "       [0., 0., 0., 0., 0., 0., 0., 0., 0., 0., 0., 0., 0., 0., 0., 0.,\n",
              "        0., 0., 0., 0., 0., 0., 0., 0., 0., 0., 0., 0., 0., 0.],\n",
              "       [0., 0., 0., 0., 0., 0., 0., 0., 0., 0., 0., 0., 0., 0., 0., 0.,\n",
              "        0., 0., 0., 0., 0., 0., 0., 0., 0., 0., 0., 0., 0., 0.],\n",
              "       [0., 0., 0., 0., 0., 0., 0., 0., 0., 0., 0., 0., 0., 0., 0., 0.,\n",
              "        0., 0., 0., 0., 0., 0., 0., 0., 0., 0., 0., 0., 0., 0.],\n",
              "       [0., 0., 0., 0., 0., 0., 0., 0., 0., 0., 0., 0., 0., 0., 0., 0.,\n",
              "        0., 0., 0., 0., 0., 0., 0., 0., 0., 0., 0., 0., 0., 0.],\n",
              "       [0., 0., 0., 0., 0., 0., 0., 0., 0., 0., 0., 0., 0., 0., 0., 0.,\n",
              "        0., 0., 0., 0., 0., 0., 0., 0., 0., 0., 0., 0., 0., 0.],\n",
              "       [0., 0., 0., 0., 0., 0., 0., 0., 0., 0., 0., 0., 0., 0., 0., 0.,\n",
              "        0., 0., 0., 0., 0., 0., 0., 0., 0., 0., 0., 0., 0., 0.],\n",
              "       [0., 0., 0., 0., 0., 0., 0., 0., 0., 0., 0., 0., 0., 0., 0., 0.,\n",
              "        0., 0., 0., 0., 0., 0., 0., 0., 0., 0., 0., 0., 0., 0.],\n",
              "       [0., 0., 0., 0., 0., 0., 0., 0., 0., 0., 0., 0., 0., 0., 0., 0.,\n",
              "        0., 0., 0., 0., 0., 0., 0., 0., 0., 0., 0., 0., 0., 0.],\n",
              "       [0., 0., 0., 0., 0., 0., 0., 0., 0., 0., 0., 0., 0., 0., 0., 0.,\n",
              "        0., 0., 0., 0., 0., 0., 0., 0., 0., 0., 0., 0., 0., 0.],\n",
              "       [0., 0., 0., 0., 0., 0., 0., 0., 0., 0., 0., 0., 0., 0., 0., 0.,\n",
              "        0., 0., 0., 0., 0., 0., 0., 0., 0., 0., 0., 0., 0., 0.],\n",
              "       [0., 0., 0., 0., 0., 0., 0., 0., 0., 0., 0., 0., 0., 0., 0., 0.,\n",
              "        0., 0., 0., 0., 0., 0., 0., 0., 0., 0., 0., 0., 0., 0.],\n",
              "       [0., 0., 0., 0., 0., 0., 0., 0., 0., 0., 0., 0., 0., 0., 0., 0.,\n",
              "        0., 0., 0., 0., 0., 0., 0., 0., 0., 0., 0., 0., 0., 0.],\n",
              "       [0., 0., 0., 0., 0., 0., 0., 0., 0., 0., 0., 0., 0., 0., 0., 0.,\n",
              "        0., 0., 0., 0., 0., 0., 0., 0., 0., 0., 0., 0., 0., 0.],\n",
              "       [0., 0., 0., 0., 0., 0., 0., 0., 0., 0., 0., 0., 0., 0., 0., 0.,\n",
              "        0., 0., 0., 0., 0., 0., 0., 0., 0., 0., 0., 0., 0., 0.],\n",
              "       [0., 0., 0., 0., 0., 0., 0., 0., 0., 0., 0., 0., 0., 0., 0., 0.,\n",
              "        0., 0., 0., 0., 0., 0., 0., 0., 0., 0., 0., 0., 0., 0.],\n",
              "       [0., 0., 0., 0., 0., 0., 0., 0., 0., 0., 0., 0., 0., 0., 0., 0.,\n",
              "        0., 0., 0., 0., 0., 0., 0., 0., 0., 0., 0., 0., 0., 0.],\n",
              "       [0., 0., 0., 0., 0., 0., 0., 0., 0., 0., 0., 0., 0., 0., 0., 0.,\n",
              "        0., 0., 0., 0., 0., 0., 0., 0., 0., 0., 0., 0., 0., 0.],\n",
              "       [0., 0., 0., 0., 0., 0., 0., 0., 0., 0., 0., 0., 0., 0., 0., 0.,\n",
              "        0., 0., 0., 0., 0., 0., 0., 0., 0., 0., 0., 0., 0., 0.],\n",
              "       [0., 0., 0., 0., 0., 0., 0., 0., 0., 0., 0., 0., 0., 0., 0., 0.,\n",
              "        0., 0., 0., 0., 0., 0., 0., 0., 0., 0., 0., 0., 0., 0.],\n",
              "       [0., 0., 0., 0., 0., 0., 0., 0., 0., 0., 0., 0., 0., 0., 0., 0.,\n",
              "        0., 0., 0., 0., 0., 0., 0., 0., 0., 0., 0., 0., 0., 0.],\n",
              "       [0., 0., 0., 0., 0., 0., 0., 0., 0., 0., 0., 0., 0., 0., 0., 0.,\n",
              "        0., 0., 0., 0., 0., 0., 0., 0., 0., 0., 0., 0., 0., 0.]])"
            ]
          },
          "metadata": {
            "tags": []
          },
          "execution_count": 165
        }
      ]
    },
    {
      "cell_type": "code",
      "metadata": {
        "id": "3_u3KXOGIlKG",
        "colab_type": "code",
        "colab": {
          "base_uri": "https://localhost:8080/",
          "height": 33
        },
        "outputId": "d86fe7f9-b631-49d5-bc02-d13b86de3df7"
      },
      "source": [
        "#Membuat Input vector dan Input Vector Noisy dalam suatu list-array yang baru 0-9 digit\n",
        "P_new = [] # input vector\n",
        "P_noise_new = [] # input vector noisy pattern\n",
        "for number in angka:\n",
        "    P_new.append(number.flatten())\n",
        "for number in angka_noise_new:\n",
        "    P_noise_new.append(number.flatten())\n",
        "print(len(P_new),len(P_noise_new)) # matriks 10x10"
      ],
      "execution_count": 166,
      "outputs": [
        {
          "output_type": "stream",
          "text": [
            "10 10\n"
          ],
          "name": "stdout"
        }
      ]
    },
    {
      "cell_type": "code",
      "metadata": {
        "id": "Du2R7JR_JXln",
        "colab_type": "code",
        "colab": {
          "base_uri": "https://localhost:8080/",
          "height": 1737
        },
        "outputId": "067223a5-ee7f-49cd-de07-9955ad728e43"
      },
      "source": [
        "#Menghitung strength weight dari network input 0-9 digit\n",
        "for i in P_new:\n",
        "    gamma = np.outer(i, i)# vector produk\n",
        "    W += gamma\n",
        "plt.matshow(W)\n",
        "print(W) #cetak weight"
      ],
      "execution_count": 170,
      "outputs": [
        {
          "output_type": "stream",
          "text": [
            "[[ 40.   8.  16.  16.  16.  16. -16. -16.   0.  -8.  16.  -8. -16.   0.\n",
            "   -8.  16.  32.  16.  16.   8.   0.   0. -16.  -8.   8.  16.   8.   8.\n",
            "    8.  24.]\n",
            " [  8.  40.  32.  16.  16.   0. -32. -32. -32.   8.   0. -24. -16. -16.\n",
            "    8.   0.   0.  16.   0.  24. -16. -32. -32. -40.  24. -16.  24.  24.\n",
            "   24.  24.]\n",
            " [ 16.  32.  40.  24.   8.   8. -40. -24. -24.   0.   8. -32. -24. -24.\n",
            "    0.   8.   8.  24.   8.  16.  -8. -24. -24. -32.  16.  -8.  32.  32.\n",
            "   32.  16.]\n",
            " [ 16.  16.  24.  40.  24.  24. -24. -24. -24.  16.  24. -16. -24. -24.\n",
            "   16.  24.   8.   8.  24.  32.   8. -24. -24. -16.  32.   8.  16.  16.\n",
            "   16.  16.]\n",
            " [ 16.  16.   8.  24.  40.   8.  -8. -24. -24.  16.   8.   0.  -8.  -8.\n",
            "   16.   8.   8.   8.  24.  32.  -8. -24. -24. -16.  32.   8.   0.   0.\n",
            "    0.  32.]\n",
            " [ 16.   0.   8.  24.   8.  40.  -8.  -8.  -8.   0.  40.   0.  -8.  -8.\n",
            "    0.  40.  24.   8.  24.  16.  24.  -8.  -8.   0.  16.  24.  16.  16.\n",
            "   16.   0.]\n",
            " [-16. -32. -40. -24.  -8.  -8.  40.  24.  24.   0.  -8.  32.  24.  24.\n",
            "    0.  -8.  -8. -24.  -8. -16.   8.  24.  24.  32. -16.   8. -32. -32.\n",
            "  -32. -16.]\n",
            " [-16. -32. -24. -24. -24.  -8.  24.  40.  24. -16.  -8.  16.  24.   8.\n",
            "  -16.  -8.  -8.  -8.  -8. -32.   8.  24.  40.  32. -32.   8. -16. -16.\n",
            "  -16. -32.]\n",
            " [  0. -32. -24. -24. -24.  -8.  24.  24.  40. -16.  -8.  16.   8.  24.\n",
            "  -16.  -8.   8.  -8.  -8. -32.   8.  40.  24.  32. -32.   8. -16. -16.\n",
            "  -16. -16.]\n",
            " [ -8.   8.   0.  16.  16.   0.   0. -16. -16.  40.   0.   8.   0.   0.\n",
            "   40.   0. -16. -16.   0.  24.   0. -16. -16.  -8.  24. -16.  -8.  -8.\n",
            "   -8.   8.]\n",
            " [ 16.   0.   8.  24.   8.  40.  -8.  -8.  -8.   0.  40.   0.  -8.  -8.\n",
            "    0.  40.  24.   8.  24.  16.  24.  -8.  -8.   0.  16.  24.  16.  16.\n",
            "   16.   0.]\n",
            " [ -8. -24. -32. -16.   0.   0.  32.  16.  16.   8.   0.  40.  32.  32.\n",
            "    8.   0.   0. -16.   0.  -8.  16.  16.  16.  24.  -8.  16. -24. -24.\n",
            "  -24.  -8.]\n",
            " [-16. -16. -24. -24.  -8.  -8.  24.  24.   8.   0.  -8.  32.  40.  24.\n",
            "    0.  -8.  -8.  -8.  -8. -16.   8.   8.  24.  16. -16.   8. -16. -16.\n",
            "  -16. -16.]\n",
            " [  0. -16. -24. -24.  -8.  -8.  24.   8.  24.   0.  -8.  32.  24.  40.\n",
            "    0.  -8.   8.  -8.  -8. -16.   8.  24.   8.  16. -16.   8. -16. -16.\n",
            "  -16.   0.]\n",
            " [ -8.   8.   0.  16.  16.   0.   0. -16. -16.  40.   0.   8.   0.   0.\n",
            "   40.   0. -16. -16.   0.  24.   0. -16. -16.  -8.  24. -16.  -8.  -8.\n",
            "   -8.   8.]\n",
            " [ 16.   0.   8.  24.   8.  40.  -8.  -8.  -8.   0.  40.   0.  -8.  -8.\n",
            "    0.  40.  24.   8.  24.  16.  24.  -8.  -8.   0.  16.  24.  16.  16.\n",
            "   16.   0.]\n",
            " [ 32.   0.   8.   8.   8.  24.  -8.  -8.   8. -16.  24.   0.  -8.   8.\n",
            "  -16.  24.  40.  24.  24.   0.   8.   8.  -8.   0.   0.  24.  16.  16.\n",
            "   16.  16.]\n",
            " [ 16.  16.  24.   8.   8.   8. -24.  -8.  -8. -16.   8. -16.  -8.  -8.\n",
            "  -16.   8.  24.  40.  24.   0.  -8.  -8.  -8. -16.   0.   8.  32.  32.\n",
            "   32.  16.]\n",
            " [ 16.   0.   8.  24.  24.  24.  -8.  -8.  -8.   0.  24.   0.  -8.  -8.\n",
            "    0.  24.  24.  24.  40.  16.   8.  -8.  -8.   0.  16.  24.  16.  16.\n",
            "   16.  16.]\n",
            " [  8.  24.  16.  32.  32.  16. -16. -32. -32.  24.  16.  -8. -16. -16.\n",
            "   24.  16.   0.   0.  16.  40.   0. -32. -32. -24.  40.   0.   8.   8.\n",
            "    8.  24.]\n",
            " [  0. -16.  -8.   8.  -8.  24.   8.   8.   8.   0.  24.  16.   8.   8.\n",
            "    0.  24.   8.  -8.   8.   0.  40.   8.   8.  16.   0.  24.   0.   0.\n",
            "    0. -16.]\n",
            " [  0. -32. -24. -24. -24.  -8.  24.  24.  40. -16.  -8.  16.   8.  24.\n",
            "  -16.  -8.   8.  -8.  -8. -32.   8.  40.  24.  32. -32.   8. -16. -16.\n",
            "  -16. -16.]\n",
            " [-16. -32. -24. -24. -24.  -8.  24.  40.  24. -16.  -8.  16.  24.   8.\n",
            "  -16.  -8.  -8.  -8.  -8. -32.   8.  24.  40.  32. -32.   8. -16. -16.\n",
            "  -16. -32.]\n",
            " [ -8. -40. -32. -16. -16.   0.  32.  32.  32.  -8.   0.  24.  16.  16.\n",
            "   -8.   0.   0. -16.   0. -24.  16.  32.  32.  40. -24.  16. -24. -24.\n",
            "  -24. -24.]\n",
            " [  8.  24.  16.  32.  32.  16. -16. -32. -32.  24.  16.  -8. -16. -16.\n",
            "   24.  16.   0.   0.  16.  40.   0. -32. -32. -24.  40.   0.   8.   8.\n",
            "    8.  24.]\n",
            " [ 16. -16.  -8.   8.   8.  24.   8.   8.   8. -16.  24.  16.   8.   8.\n",
            "  -16.  24.  24.   8.  24.   0.  24.   8.   8.  16.   0.  40.   0.   0.\n",
            "    0.   0.]\n",
            " [  8.  24.  32.  16.   0.  16. -32. -16. -16.  -8.  16. -24. -16. -16.\n",
            "   -8.  16.  16.  32.  16.   8.   0. -16. -16. -24.   8.   0.  40.  40.\n",
            "   40.   8.]\n",
            " [  8.  24.  32.  16.   0.  16. -32. -16. -16.  -8.  16. -24. -16. -16.\n",
            "   -8.  16.  16.  32.  16.   8.   0. -16. -16. -24.   8.   0.  40.  40.\n",
            "   40.   8.]\n",
            " [  8.  24.  32.  16.   0.  16. -32. -16. -16.  -8.  16. -24. -16. -16.\n",
            "   -8.  16.  16.  32.  16.   8.   0. -16. -16. -24.   8.   0.  40.  40.\n",
            "   40.   8.]\n",
            " [ 24.  24.  16.  16.  32.   0. -16. -32. -16.   8.   0.  -8. -16.   0.\n",
            "    8.   0.  16.  16.  16.  24. -16. -16. -32. -24.  24.   0.   8.   8.\n",
            "    8.  40.]]\n"
          ],
          "name": "stdout"
        },
        {
          "output_type": "display_data",
          "data": {
            "image/png": "[encoded data removed]",
            "text/plain": [
              "<Figure size 288x288 with 1 Axes>"
            ]
          },
          "metadata": {
            "tags": []
          }
        }
      ]
    },
    {
      "cell_type": "markdown",
      "metadata": {
        "id": "yrtpyl7vVgvw",
        "colab_type": "text"
      },
      "source": [
        "#Latih network untuk digit 0-9 \n"
      ]
    },
    {
      "cell_type": "code",
      "metadata": {
        "id": "Ylym-FaJKao4",
        "colab_type": "code",
        "colab": {
          "base_uri": "https://localhost:8080/",
          "height": 3530
        },
        "outputId": "60135d53-7fa1-4bfc-8247-2ff3a96462cb"
      },
      "source": [
        "#multiplikasi matriks digit 0-9\n",
        "for p in P_new:\n",
        "    b = np.matmul(Weight, p)\n",
        "    b = hardlim(b)\n",
        "    b = b.reshape(6, 5) #transformasi menjadi matrix 6x5\n",
        "    print(type(b), b.shape)\n",
        "    plt.matshow(b)\n"
      ],
      "execution_count": 171,
      "outputs": [
        {
          "output_type": "stream",
          "text": [
            "[-1.  1.  1.  1. -1.  1. -1. -1. -1.  1.  1. -1. -1. -1.  1.  1. -1. -1.\n",
            " -1.  1.  1. -1. -1. -1.  1. -1.  1.  1.  1. -1.]\n",
            "<class 'numpy.ndarray'> (6, 5)\n",
            "[-1.  1.  1. -1. -1. -1. -1.  1. -1. -1. -1. -1.  1. -1. -1. -1. -1.  1.\n",
            " -1. -1. -1. -1.  1. -1. -1. -1.  1.  1.  1. -1.]\n",
            "<class 'numpy.ndarray'> (6, 5)\n",
            "[ 1.  1.  1. -1. -1. -1. -1. -1.  1. -1. -1. -1. -1.  1. -1. -1.  1.  1.\n",
            " -1. -1. -1.  1. -1. -1. -1. -1.  1.  1.  1.  1.]\n",
            "<class 'numpy.ndarray'> (6, 5)\n",
            "[-1.  1.  1.  1.  1. -1. -1. -1. -1.  1. -1. -1. -1. -1.  1. -1. -1.  1.\n",
            "  1.  1. -1. -1. -1. -1.  1. -1.  1.  1.  1.  1.]\n",
            "<class 'numpy.ndarray'> (6, 5)\n",
            "[-1.  1.  1.  1.  1. -1. -1. -1. -1.  1. -1. -1. -1. -1.  1. -1. -1.  1.\n",
            "  1.  1. -1. -1. -1. -1.  1. -1.  1.  1.  1.  1.]\n",
            "<class 'numpy.ndarray'> (6, 5)\n",
            "[-1.  1.  1.  1. -1. -1. -1. -1. -1.  1. -1. -1. -1. -1.  1. -1. -1.  1.\n",
            " -1.  1. -1. -1. -1. -1.  1. -1.  1.  1.  1.  1.]\n",
            "<class 'numpy.ndarray'> (6, 5)\n",
            "[-1.  1.  1.  1. -1. -1. -1. -1. -1.  1. -1. -1. -1. -1.  1. -1. -1.  1.\n",
            " -1.  1. -1. -1. -1. -1.  1. -1.  1.  1.  1.  1.]\n",
            "<class 'numpy.ndarray'> (6, 5)\n",
            "[-1.  1.  1.  1.  1. -1. -1. -1. -1.  1. -1. -1. -1. -1.  1. -1. -1.  1.\n",
            "  1.  1. -1. -1. -1. -1.  1. -1.  1.  1.  1.  1.]\n",
            "<class 'numpy.ndarray'> (6, 5)\n",
            "[-1.  1.  1.  1.  1.  1. -1. -1. -1.  1.  1. -1. -1. -1.  1.  1. -1. -1.\n",
            "  1.  1.  1. -1. -1. -1.  1. -1.  1.  1.  1.  1.]\n",
            "<class 'numpy.ndarray'> (6, 5)\n",
            "[-1.  1.  1.  1.  1. -1. -1. -1. -1.  1. -1. -1. -1. -1.  1. -1. -1.  1.\n",
            "  1.  1. -1. -1. -1. -1.  1. -1.  1.  1.  1.  1.]\n",
            "<class 'numpy.ndarray'> (6, 5)\n"
          ],
          "name": "stdout"
        },
        {
          "output_type": "display_data",
          "data": {
            "image/png": "[encoded data removed]",
            "text/plain": [
              "<Figure size 288x345.6 with 1 Axes>"
            ]
          },
          "metadata": {
            "tags": []
          }
        },
        {
          "output_type": "display_data",
          "data": {
            "image/png": "[encoded data removed]",
            "text/plain": [
              "<Figure size 288x345.6 with 1 Axes>"
            ]
          },
          "metadata": {
            "tags": []
          }
        },
        {
          "output_type": "display_data",
          "data": {
            "image/png": "[encoded data removed]",
            "text/plain": [
              "<Figure size 288x345.6 with 1 Axes>"
            ]
          },
          "metadata": {
            "tags": []
          }
        },
        {
          "output_type": "display_data",
          "data": {
            "image/png": "[encoded data removed]",
            "text/plain": [
              "<Figure size 288x345.6 with 1 Axes>"
            ]
          },
          "metadata": {
            "tags": []
          }
        },
        {
          "output_type": "display_data",
          "data": {
            "image/png": "[encoded data removed]",
            "text/plain": [
              "<Figure size 288x345.6 with 1 Axes>"
            ]
          },
          "metadata": {
            "tags": []
          }
        },
        {
          "output_type": "display_data",
          "data": {
            "image/png": "[encoded data removed]",
            "text/plain": [
              "<Figure size 288x345.6 with 1 Axes>"
            ]
          },
          "metadata": {
            "tags": []
          }
        },
        {
          "output_type": "display_data",
          "data": {
            "image/png": "[encoded data removed]",
            "text/plain": [
              "<Figure size 288x345.6 with 1 Axes>"
            ]
          },
          "metadata": {
            "tags": []
          }
        },
        {
          "output_type": "display_data",
          "data": {
            "image/png": "[encoded data removed]",
            "text/plain": [
              "<Figure size 288x345.6 with 1 Axes>"
            ]
          },
          "metadata": {
            "tags": []
          }
        },
        {
          "output_type": "display_data",
          "data": {
            "image/png": "[encoded data removed]",
            "text/plain": [
              "<Figure size 288x345.6 with 1 Axes>"
            ]
          },
          "metadata": {
            "tags": []
          }
        },
        {
          "output_type": "display_data",
          "data": {
            "image/png": "[encoded data removed]",
            "text/plain": [
              "<Figure size 288x345.6 with 1 Axes>"
            ]
          },
          "metadata": {
            "tags": []
          }
        }
      ]
    },
    {
      "cell_type": "markdown",
      "metadata": {
        "id": "tyrmoRZAMHWt",
        "colab_type": "text"
      },
      "source": [
        " ketika menggunakan variasi data yang lebih sedikit dapat diamati *autoassociation memory* yang dimodelkan memiliki performa yang jauh lebih fleksibel terhadap berbagai macam data testing dimana dengan jenis perlakuan yang sama pada percobaan sebelumnya tetapi dapat mengenali data testing dengan performa yang baik.\n",
        "\n",
        "Sehingga dapat disimpulkan juga *autoassociation memory* juga memiliki kemampuan yang terbatas dalam menyimpan fitur-fitur targetnya karena semakin banyak variasi target yang dicapai maka performanya akan semakin menurun.\n"
      ]
    },
    {
      "cell_type": "code",
      "metadata": {
        "id": "pYvYprlZKptq",
        "colab_type": "code",
        "colab": {
          "base_uri": "https://localhost:8080/",
          "height": 6555
        },
        "outputId": "ab685c6d-1691-4e84-b8ab-da3d800f8418"
      },
      "source": [
        "#noise pattern yang baru\n",
        "for p in P_noise_new:\n",
        "    a = np.matmul(Weight, p)\n",
        "    a = hardlim(a)\n",
        "    a = a.reshape(6, 5)\n",
        "    print(type(a), a.shape)\n",
        "    plt.matshow(p.reshape(6,5))\n",
        "    plt.matshow(a)"
      ],
      "execution_count": 172,
      "outputs": [
        {
          "output_type": "stream",
          "text": [
            "[-1.  1.  1.  1.  1.  1. -1. -1. -1.  1.  1. -1. -1. -1.  1.  1. -1. -1.\n",
            "  1.  1.  1. -1. -1. -1.  1. -1.  1.  1.  1.  1.]\n",
            "<class 'numpy.ndarray'> (6, 5)\n",
            "[-1.  1.  1. -1. -1. -1. -1.  1. -1. -1. -1. -1.  1. -1. -1. -1. -1.  1.\n",
            " -1. -1. -1. -1.  1. -1. -1. -1.  1.  1.  1. -1.]\n",
            "<class 'numpy.ndarray'> (6, 5)\n",
            "[ 1.  1.  1. -1. -1. -1. -1. -1.  1. -1. -1. -1. -1.  1. -1. -1.  1.  1.\n",
            " -1. -1. -1.  1. -1. -1. -1. -1.  1.  1.  1.  1.]\n",
            "<class 'numpy.ndarray'> (6, 5)\n",
            "[-1.  1.  1.  1.  1. -1. -1. -1. -1.  1. -1. -1. -1. -1.  1. -1. -1.  1.\n",
            "  1.  1. -1. -1. -1. -1.  1. -1.  1.  1.  1.  1.]\n",
            "<class 'numpy.ndarray'> (6, 5)\n",
            "[ 1.  1.  1. -1.  1. -1. -1.  1.  1. -1. -1. -1.  1.  1. -1. -1.  1.  1.\n",
            "  1. -1. -1.  1.  1. -1. -1. -1.  1.  1.  1.  1.]\n",
            "<class 'numpy.ndarray'> (6, 5)\n",
            "[-1.  1.  1.  1. -1. -1. -1. -1. -1.  1. -1. -1. -1. -1.  1. -1. -1.  1.\n",
            " -1.  1. -1. -1. -1. -1.  1. -1.  1.  1.  1.  1.]\n",
            "<class 'numpy.ndarray'> (6, 5)\n",
            "[-1.  1.  1. -1. -1. -1. -1. -1. -1. -1. -1. -1. -1. -1. -1. -1. -1.  1.\n",
            " -1. -1. -1. -1. -1. -1. -1. -1.  1.  1.  1.  1.]\n",
            "<class 'numpy.ndarray'> (6, 5)\n",
            "[-1.  1.  1.  1.  1.  1. -1. -1. -1.  1.  1. -1. -1. -1.  1.  1. -1. -1.\n",
            "  1.  1.  1. -1. -1. -1.  1. -1.  1.  1.  1.  1.]\n",
            "<class 'numpy.ndarray'> (6, 5)\n",
            "[-1.  1.  1.  1.  1. -1. -1. -1. -1.  1. -1. -1. -1. -1.  1. -1. -1.  1.\n",
            "  1.  1. -1. -1. -1. -1.  1. -1.  1.  1.  1.  1.]\n",
            "<class 'numpy.ndarray'> (6, 5)\n",
            "[-1.  1.  1.  1. -1. -1. -1. -1. -1.  1. -1. -1. -1. -1.  1. -1. -1.  1.\n",
            " -1.  1. -1. -1. -1. -1.  1. -1.  1.  1.  1.  1.]\n",
            "<class 'numpy.ndarray'> (6, 5)\n"
          ],
          "name": "stdout"
        },
        {
          "output_type": "display_data",
          "data": {
            "image/png": "[encoded data removed]",
            "text/plain": [
              "<Figure size 288x345.6 with 1 Axes>"
            ]
          },
          "metadata": {
            "tags": []
          }
        },
        {
          "output_type": "display_data",
          "data": {
            "image/png": "[encoded data removed]",
            "text/plain": [
              "<Figure size 288x345.6 with 1 Axes>"
            ]
          },
          "metadata": {
            "tags": []
          }
        },
        {
          "output_type": "display_data",
          "data": {
            "image/png": "[encoded data removed]",
            "text/plain": [
              "<Figure size 288x345.6 with 1 Axes>"
            ]
          },
          "metadata": {
            "tags": []
          }
        },
        {
          "output_type": "display_data",
          "data": {
            "image/png": "[encoded data removed]",
            "text/plain": [
              "<Figure size 288x345.6 with 1 Axes>"
            ]
          },
          "metadata": {
            "tags": []
          }
        },
        {
          "output_type": "display_data",
          "data": {
            "image/png": "[encoded data removed]",
            "text/plain": [
              "<Figure size 288x345.6 with 1 Axes>"
            ]
          },
          "metadata": {
            "tags": []
          }
        },
        {
          "output_type": "display_data",
          "data": {
            "image/png": "[encoded data removed]",
            "text/plain": [
              "<Figure size 288x345.6 with 1 Axes>"
            ]
          },
          "metadata": {
            "tags": []
          }
        },
        {
          "output_type": "display_data",
          "data": {
            "image/png": "[encoded data removed]",
            "text/plain": [
              "<Figure size 288x345.6 with 1 Axes>"
            ]
          },
          "metadata": {
            "tags": []
          }
        },
        {
          "output_type": "display_data",
          "data": {
            "image/png": "[encoded data removed]",
            "text/plain": [
              "<Figure size 288x345.6 with 1 Axes>"
            ]
          },
          "metadata": {
            "tags": []
          }
        },
        {
          "output_type": "display_data",
          "data": {
            "image/png": "[encoded data removed]",
            "text/plain": [
              "<Figure size 288x345.6 with 1 Axes>"
            ]
          },
          "metadata": {
            "tags": []
          }
        },
        {
          "output_type": "display_data",
          "data": {
            "image/png": "[encoded data removed]",
            "text/plain": [
              "<Figure size 288x345.6 with 1 Axes>"
            ]
          },
          "metadata": {
            "tags": []
          }
        },
        {
          "output_type": "display_data",
          "data": {
            "image/png": "[encoded data removed]",
            "text/plain": [
              "<Figure size 288x345.6 with 1 Axes>"
            ]
          },
          "metadata": {
            "tags": []
          }
        },
        {
          "output_type": "display_data",
          "data": {
            "image/png": "[encoded data removed]",
            "text/plain": [
              "<Figure size 288x345.6 with 1 Axes>"
            ]
          },
          "metadata": {
            "tags": []
          }
        },
        {
          "output_type": "display_data",
          "data": {
            "image/png": "[encoded data removed]",
            "text/plain": [
              "<Figure size 288x345.6 with 1 Axes>"
            ]
          },
          "metadata": {
            "tags": []
          }
        },
        {
          "output_type": "display_data",
          "data": {
            "image/png": "[encoded data removed]",
            "text/plain": [
              "<Figure size 288x345.6 with 1 Axes>"
            ]
          },
          "metadata": {
            "tags": []
          }
        },
        {
          "output_type": "display_data",
          "data": {
            "image/png": "[encoded data removed]",
            "text/plain": [
              "<Figure size 288x345.6 with 1 Axes>"
            ]
          },
          "metadata": {
            "tags": []
          }
        },
        {
          "output_type": "display_data",
          "data": {
            "image/png": "[encoded data removed]",
            "text/plain": [
              "<Figure size 288x345.6 with 1 Axes>"
            ]
          },
          "metadata": {
            "tags": []
          }
        },
        {
          "output_type": "display_data",
          "data": {
            "image/png": "[encoded data removed]",
            "text/plain": [
              "<Figure size 288x345.6 with 1 Axes>"
            ]
          },
          "metadata": {
            "tags": []
          }
        },
        {
          "output_type": "display_data",
          "data": {
            "image/png": "[encoded data removed]",
            "text/plain": [
              "<Figure size 288x345.6 with 1 Axes>"
            ]
          },
          "metadata": {
            "tags": []
          }
        },
        {
          "output_type": "display_data",
          "data": {
            "image/png": "[encoded data removed]",
            "text/plain": [
              "<Figure size 288x345.6 with 1 Axes>"
            ]
          },
          "metadata": {
            "tags": []
          }
        },
        {
          "output_type": "display_data",
          "data": {
            "image/png": "[encoded data removed]",
            "text/plain": [
              "<Figure size 288x345.6 with 1 Axes>"
            ]
          },
          "metadata": {
            "tags": []
          }
        }
      ]
    },
    {
      "cell_type": "markdown",
      "metadata": {
        "id": "hAkij-iRV77S",
        "colab_type": "text"
      },
      "source": [
        "Karena data traingin tidak bersifat orhtogonal dan orthonormal maka pada pendekatan hebbian rule baik data testing merupakan data training maupun yang bukan data training (dalam hal ini yang terkena noise) menghasilkan target yang tidak sesuai yang diharapkan (*underfitting*). sehingga mungkin dapat menggunakan pendekatan kedua yakni *pseudoinverse* dalam mengatasi masalah ini."
      ]
    },
    {
      "cell_type": "code",
      "metadata": {
        "id": "DDaC_3ViWCKu",
        "colab_type": "code",
        "colab": {}
      },
      "source": [
        ""
      ],
      "execution_count": 0,
      "outputs": []
    }
  ]
}